{
  "nbformat": 4,
  "nbformat_minor": 0,
  "metadata": {
    "colab": {
      "provenance": [],
      "machine_shape": "hm",
      "gpuType": "A100",
      "include_colab_link": true
    },
    "kernelspec": {
      "name": "python3",
      "display_name": "Python 3"
    },
    "language_info": {
      "name": "python"
    },
    "accelerator": "GPU"
  },
  "cells": [
    {
      "cell_type": "markdown",
      "metadata": {
        "id": "view-in-github",
        "colab_type": "text"
      },
      "source": [
        "<a href=\"https://colab.research.google.com/github/ssm951/chinese-genealogy/blob/main/Experiments.ipynb\" target=\"_parent\"><img src=\"https://colab.research.google.com/assets/colab-badge.svg\" alt=\"Open In Colab\"/></a>"
      ]
    },
    {
      "cell_type": "markdown",
      "source": [
        "# Model Experimenting"
      ],
      "metadata": {
        "id": "uIksztG13hG1"
      }
    },
    {
      "cell_type": "markdown",
      "source": [
        "## SpaCy (as baseline)"
      ],
      "metadata": {
        "id": "2Vv81eGQ3oUZ"
      }
    },
    {
      "cell_type": "code",
      "execution_count": 1,
      "metadata": {
        "id": "vA8nRzB3tPr6",
        "outputId": "dfdd0c9a-c261-41bb-d212-46384c62077a",
        "colab": {
          "base_uri": "https://localhost:8080/"
        }
      },
      "outputs": [
        {
          "output_type": "stream",
          "name": "stdout",
          "text": [
            "Collecting zh-core-web-trf==3.7.2\n",
            "  Downloading https://github.com/explosion/spacy-models/releases/download/zh_core_web_trf-3.7.2/zh_core_web_trf-3.7.2-py3-none-any.whl (415.1 MB)\n",
            "\u001b[2K     \u001b[90m━━━━━━━━━━━━━━━━━━━━━━━━━━━━━━━━━━━━━━━━\u001b[0m \u001b[32m415.1/415.1 MB\u001b[0m \u001b[31m2.4 MB/s\u001b[0m eta \u001b[36m0:00:00\u001b[0m\n",
            "\u001b[?25hRequirement already satisfied: spacy<3.8.0,>=3.7.0 in /usr/local/lib/python3.10/dist-packages (from zh-core-web-trf==3.7.2) (3.7.5)\n",
            "Collecting spacy-curated-transformers<0.3.0,>=0.2.0 (from zh-core-web-trf==3.7.2)\n",
            "  Downloading spacy_curated_transformers-0.2.2-py2.py3-none-any.whl.metadata (2.7 kB)\n",
            "Collecting spacy-pkuseg<0.1.0,>=0.0.27 (from zh-core-web-trf==3.7.2)\n",
            "  Downloading spacy_pkuseg-0.0.33-cp310-cp310-manylinux_2_17_x86_64.manylinux2014_x86_64.whl.metadata (13 kB)\n",
            "Requirement already satisfied: spacy-legacy<3.1.0,>=3.0.11 in /usr/local/lib/python3.10/dist-packages (from spacy<3.8.0,>=3.7.0->zh-core-web-trf==3.7.2) (3.0.12)\n",
            "Requirement already satisfied: spacy-loggers<2.0.0,>=1.0.0 in /usr/local/lib/python3.10/dist-packages (from spacy<3.8.0,>=3.7.0->zh-core-web-trf==3.7.2) (1.0.5)\n",
            "Requirement already satisfied: murmurhash<1.1.0,>=0.28.0 in /usr/local/lib/python3.10/dist-packages (from spacy<3.8.0,>=3.7.0->zh-core-web-trf==3.7.2) (1.0.10)\n",
            "Requirement already satisfied: cymem<2.1.0,>=2.0.2 in /usr/local/lib/python3.10/dist-packages (from spacy<3.8.0,>=3.7.0->zh-core-web-trf==3.7.2) (2.0.8)\n",
            "Requirement already satisfied: preshed<3.1.0,>=3.0.2 in /usr/local/lib/python3.10/dist-packages (from spacy<3.8.0,>=3.7.0->zh-core-web-trf==3.7.2) (3.0.9)\n",
            "Requirement already satisfied: thinc<8.3.0,>=8.2.2 in /usr/local/lib/python3.10/dist-packages (from spacy<3.8.0,>=3.7.0->zh-core-web-trf==3.7.2) (8.2.5)\n",
            "Requirement already satisfied: wasabi<1.2.0,>=0.9.1 in /usr/local/lib/python3.10/dist-packages (from spacy<3.8.0,>=3.7.0->zh-core-web-trf==3.7.2) (1.1.3)\n",
            "Requirement already satisfied: srsly<3.0.0,>=2.4.3 in /usr/local/lib/python3.10/dist-packages (from spacy<3.8.0,>=3.7.0->zh-core-web-trf==3.7.2) (2.4.8)\n",
            "Requirement already satisfied: catalogue<2.1.0,>=2.0.6 in /usr/local/lib/python3.10/dist-packages (from spacy<3.8.0,>=3.7.0->zh-core-web-trf==3.7.2) (2.0.10)\n",
            "Requirement already satisfied: weasel<0.5.0,>=0.1.0 in /usr/local/lib/python3.10/dist-packages (from spacy<3.8.0,>=3.7.0->zh-core-web-trf==3.7.2) (0.4.1)\n",
            "Requirement already satisfied: typer<1.0.0,>=0.3.0 in /usr/local/lib/python3.10/dist-packages (from spacy<3.8.0,>=3.7.0->zh-core-web-trf==3.7.2) (0.12.3)\n",
            "Requirement already satisfied: tqdm<5.0.0,>=4.38.0 in /usr/local/lib/python3.10/dist-packages (from spacy<3.8.0,>=3.7.0->zh-core-web-trf==3.7.2) (4.66.4)\n",
            "Requirement already satisfied: requests<3.0.0,>=2.13.0 in /usr/local/lib/python3.10/dist-packages (from spacy<3.8.0,>=3.7.0->zh-core-web-trf==3.7.2) (2.31.0)\n",
            "Requirement already satisfied: pydantic!=1.8,!=1.8.1,<3.0.0,>=1.7.4 in /usr/local/lib/python3.10/dist-packages (from spacy<3.8.0,>=3.7.0->zh-core-web-trf==3.7.2) (2.8.2)\n",
            "Requirement already satisfied: jinja2 in /usr/local/lib/python3.10/dist-packages (from spacy<3.8.0,>=3.7.0->zh-core-web-trf==3.7.2) (3.1.4)\n",
            "Requirement already satisfied: setuptools in /usr/local/lib/python3.10/dist-packages (from spacy<3.8.0,>=3.7.0->zh-core-web-trf==3.7.2) (71.0.4)\n",
            "Requirement already satisfied: packaging>=20.0 in /usr/local/lib/python3.10/dist-packages (from spacy<3.8.0,>=3.7.0->zh-core-web-trf==3.7.2) (24.1)\n",
            "Requirement already satisfied: langcodes<4.0.0,>=3.2.0 in /usr/local/lib/python3.10/dist-packages (from spacy<3.8.0,>=3.7.0->zh-core-web-trf==3.7.2) (3.4.0)\n",
            "Requirement already satisfied: numpy>=1.19.0 in /usr/local/lib/python3.10/dist-packages (from spacy<3.8.0,>=3.7.0->zh-core-web-trf==3.7.2) (1.25.2)\n",
            "Collecting curated-transformers<0.2.0,>=0.1.0 (from spacy-curated-transformers<0.3.0,>=0.2.0->zh-core-web-trf==3.7.2)\n",
            "  Downloading curated_transformers-0.1.1-py2.py3-none-any.whl.metadata (965 bytes)\n",
            "Collecting curated-tokenizers<0.1.0,>=0.0.9 (from spacy-curated-transformers<0.3.0,>=0.2.0->zh-core-web-trf==3.7.2)\n",
            "  Downloading curated_tokenizers-0.0.9-cp310-cp310-manylinux_2_17_x86_64.manylinux2014_x86_64.whl.metadata (1.9 kB)\n",
            "Requirement already satisfied: torch>=1.12.0 in /usr/local/lib/python3.10/dist-packages (from spacy-curated-transformers<0.3.0,>=0.2.0->zh-core-web-trf==3.7.2) (2.3.1+cu121)\n",
            "Requirement already satisfied: regex>=2022 in /usr/local/lib/python3.10/dist-packages (from curated-tokenizers<0.1.0,>=0.0.9->spacy-curated-transformers<0.3.0,>=0.2.0->zh-core-web-trf==3.7.2) (2024.5.15)\n",
            "Requirement already satisfied: language-data>=1.2 in /usr/local/lib/python3.10/dist-packages (from langcodes<4.0.0,>=3.2.0->spacy<3.8.0,>=3.7.0->zh-core-web-trf==3.7.2) (1.2.0)\n",
            "Requirement already satisfied: annotated-types>=0.4.0 in /usr/local/lib/python3.10/dist-packages (from pydantic!=1.8,!=1.8.1,<3.0.0,>=1.7.4->spacy<3.8.0,>=3.7.0->zh-core-web-trf==3.7.2) (0.7.0)\n",
            "Requirement already satisfied: pydantic-core==2.20.1 in /usr/local/lib/python3.10/dist-packages (from pydantic!=1.8,!=1.8.1,<3.0.0,>=1.7.4->spacy<3.8.0,>=3.7.0->zh-core-web-trf==3.7.2) (2.20.1)\n",
            "Requirement already satisfied: typing-extensions>=4.6.1 in /usr/local/lib/python3.10/dist-packages (from pydantic!=1.8,!=1.8.1,<3.0.0,>=1.7.4->spacy<3.8.0,>=3.7.0->zh-core-web-trf==3.7.2) (4.12.2)\n",
            "Requirement already satisfied: charset-normalizer<4,>=2 in /usr/local/lib/python3.10/dist-packages (from requests<3.0.0,>=2.13.0->spacy<3.8.0,>=3.7.0->zh-core-web-trf==3.7.2) (3.3.2)\n",
            "Requirement already satisfied: idna<4,>=2.5 in /usr/local/lib/python3.10/dist-packages (from requests<3.0.0,>=2.13.0->spacy<3.8.0,>=3.7.0->zh-core-web-trf==3.7.2) (3.7)\n",
            "Requirement already satisfied: urllib3<3,>=1.21.1 in /usr/local/lib/python3.10/dist-packages (from requests<3.0.0,>=2.13.0->spacy<3.8.0,>=3.7.0->zh-core-web-trf==3.7.2) (2.0.7)\n",
            "Requirement already satisfied: certifi>=2017.4.17 in /usr/local/lib/python3.10/dist-packages (from requests<3.0.0,>=2.13.0->spacy<3.8.0,>=3.7.0->zh-core-web-trf==3.7.2) (2024.7.4)\n",
            "Requirement already satisfied: blis<0.8.0,>=0.7.8 in /usr/local/lib/python3.10/dist-packages (from thinc<8.3.0,>=8.2.2->spacy<3.8.0,>=3.7.0->zh-core-web-trf==3.7.2) (0.7.11)\n",
            "Requirement already satisfied: confection<1.0.0,>=0.0.1 in /usr/local/lib/python3.10/dist-packages (from thinc<8.3.0,>=8.2.2->spacy<3.8.0,>=3.7.0->zh-core-web-trf==3.7.2) (0.1.5)\n",
            "Requirement already satisfied: filelock in /usr/local/lib/python3.10/dist-packages (from torch>=1.12.0->spacy-curated-transformers<0.3.0,>=0.2.0->zh-core-web-trf==3.7.2) (3.15.4)\n",
            "Requirement already satisfied: sympy in /usr/local/lib/python3.10/dist-packages (from torch>=1.12.0->spacy-curated-transformers<0.3.0,>=0.2.0->zh-core-web-trf==3.7.2) (1.13.1)\n",
            "Requirement already satisfied: networkx in /usr/local/lib/python3.10/dist-packages (from torch>=1.12.0->spacy-curated-transformers<0.3.0,>=0.2.0->zh-core-web-trf==3.7.2) (3.3)\n",
            "Requirement already satisfied: fsspec in /usr/local/lib/python3.10/dist-packages (from torch>=1.12.0->spacy-curated-transformers<0.3.0,>=0.2.0->zh-core-web-trf==3.7.2) (2023.6.0)\n",
            "Collecting nvidia-cuda-nvrtc-cu12==12.1.105 (from torch>=1.12.0->spacy-curated-transformers<0.3.0,>=0.2.0->zh-core-web-trf==3.7.2)\n",
            "  Using cached nvidia_cuda_nvrtc_cu12-12.1.105-py3-none-manylinux1_x86_64.whl.metadata (1.5 kB)\n",
            "Collecting nvidia-cuda-runtime-cu12==12.1.105 (from torch>=1.12.0->spacy-curated-transformers<0.3.0,>=0.2.0->zh-core-web-trf==3.7.2)\n",
            "  Using cached nvidia_cuda_runtime_cu12-12.1.105-py3-none-manylinux1_x86_64.whl.metadata (1.5 kB)\n",
            "Collecting nvidia-cuda-cupti-cu12==12.1.105 (from torch>=1.12.0->spacy-curated-transformers<0.3.0,>=0.2.0->zh-core-web-trf==3.7.2)\n",
            "  Using cached nvidia_cuda_cupti_cu12-12.1.105-py3-none-manylinux1_x86_64.whl.metadata (1.6 kB)\n",
            "Collecting nvidia-cudnn-cu12==8.9.2.26 (from torch>=1.12.0->spacy-curated-transformers<0.3.0,>=0.2.0->zh-core-web-trf==3.7.2)\n",
            "  Using cached nvidia_cudnn_cu12-8.9.2.26-py3-none-manylinux1_x86_64.whl.metadata (1.6 kB)\n",
            "Collecting nvidia-cublas-cu12==12.1.3.1 (from torch>=1.12.0->spacy-curated-transformers<0.3.0,>=0.2.0->zh-core-web-trf==3.7.2)\n",
            "  Using cached nvidia_cublas_cu12-12.1.3.1-py3-none-manylinux1_x86_64.whl.metadata (1.5 kB)\n",
            "Collecting nvidia-cufft-cu12==11.0.2.54 (from torch>=1.12.0->spacy-curated-transformers<0.3.0,>=0.2.0->zh-core-web-trf==3.7.2)\n",
            "  Using cached nvidia_cufft_cu12-11.0.2.54-py3-none-manylinux1_x86_64.whl.metadata (1.5 kB)\n",
            "Collecting nvidia-curand-cu12==10.3.2.106 (from torch>=1.12.0->spacy-curated-transformers<0.3.0,>=0.2.0->zh-core-web-trf==3.7.2)\n",
            "  Using cached nvidia_curand_cu12-10.3.2.106-py3-none-manylinux1_x86_64.whl.metadata (1.5 kB)\n",
            "Collecting nvidia-cusolver-cu12==11.4.5.107 (from torch>=1.12.0->spacy-curated-transformers<0.3.0,>=0.2.0->zh-core-web-trf==3.7.2)\n",
            "  Using cached nvidia_cusolver_cu12-11.4.5.107-py3-none-manylinux1_x86_64.whl.metadata (1.6 kB)\n",
            "Collecting nvidia-cusparse-cu12==12.1.0.106 (from torch>=1.12.0->spacy-curated-transformers<0.3.0,>=0.2.0->zh-core-web-trf==3.7.2)\n",
            "  Using cached nvidia_cusparse_cu12-12.1.0.106-py3-none-manylinux1_x86_64.whl.metadata (1.6 kB)\n",
            "Collecting nvidia-nccl-cu12==2.20.5 (from torch>=1.12.0->spacy-curated-transformers<0.3.0,>=0.2.0->zh-core-web-trf==3.7.2)\n",
            "  Using cached nvidia_nccl_cu12-2.20.5-py3-none-manylinux2014_x86_64.whl.metadata (1.8 kB)\n",
            "Collecting nvidia-nvtx-cu12==12.1.105 (from torch>=1.12.0->spacy-curated-transformers<0.3.0,>=0.2.0->zh-core-web-trf==3.7.2)\n",
            "  Using cached nvidia_nvtx_cu12-12.1.105-py3-none-manylinux1_x86_64.whl.metadata (1.7 kB)\n",
            "Requirement already satisfied: triton==2.3.1 in /usr/local/lib/python3.10/dist-packages (from torch>=1.12.0->spacy-curated-transformers<0.3.0,>=0.2.0->zh-core-web-trf==3.7.2) (2.3.1)\n",
            "Collecting nvidia-nvjitlink-cu12 (from nvidia-cusolver-cu12==11.4.5.107->torch>=1.12.0->spacy-curated-transformers<0.3.0,>=0.2.0->zh-core-web-trf==3.7.2)\n",
            "  Downloading nvidia_nvjitlink_cu12-12.5.82-py3-none-manylinux2014_x86_64.whl.metadata (1.5 kB)\n",
            "Requirement already satisfied: click>=8.0.0 in /usr/local/lib/python3.10/dist-packages (from typer<1.0.0,>=0.3.0->spacy<3.8.0,>=3.7.0->zh-core-web-trf==3.7.2) (8.1.7)\n",
            "Requirement already satisfied: shellingham>=1.3.0 in /usr/local/lib/python3.10/dist-packages (from typer<1.0.0,>=0.3.0->spacy<3.8.0,>=3.7.0->zh-core-web-trf==3.7.2) (1.5.4)\n",
            "Requirement already satisfied: rich>=10.11.0 in /usr/local/lib/python3.10/dist-packages (from typer<1.0.0,>=0.3.0->spacy<3.8.0,>=3.7.0->zh-core-web-trf==3.7.2) (13.7.1)\n",
            "Requirement already satisfied: cloudpathlib<1.0.0,>=0.7.0 in /usr/local/lib/python3.10/dist-packages (from weasel<0.5.0,>=0.1.0->spacy<3.8.0,>=3.7.0->zh-core-web-trf==3.7.2) (0.18.1)\n",
            "Requirement already satisfied: smart-open<8.0.0,>=5.2.1 in /usr/local/lib/python3.10/dist-packages (from weasel<0.5.0,>=0.1.0->spacy<3.8.0,>=3.7.0->zh-core-web-trf==3.7.2) (7.0.4)\n",
            "Requirement already satisfied: MarkupSafe>=2.0 in /usr/local/lib/python3.10/dist-packages (from jinja2->spacy<3.8.0,>=3.7.0->zh-core-web-trf==3.7.2) (2.1.5)\n",
            "Requirement already satisfied: marisa-trie>=0.7.7 in /usr/local/lib/python3.10/dist-packages (from language-data>=1.2->langcodes<4.0.0,>=3.2.0->spacy<3.8.0,>=3.7.0->zh-core-web-trf==3.7.2) (1.2.0)\n",
            "Requirement already satisfied: markdown-it-py>=2.2.0 in /usr/local/lib/python3.10/dist-packages (from rich>=10.11.0->typer<1.0.0,>=0.3.0->spacy<3.8.0,>=3.7.0->zh-core-web-trf==3.7.2) (3.0.0)\n",
            "Requirement already satisfied: pygments<3.0.0,>=2.13.0 in /usr/local/lib/python3.10/dist-packages (from rich>=10.11.0->typer<1.0.0,>=0.3.0->spacy<3.8.0,>=3.7.0->zh-core-web-trf==3.7.2) (2.16.1)\n",
            "Requirement already satisfied: wrapt in /usr/local/lib/python3.10/dist-packages (from smart-open<8.0.0,>=5.2.1->weasel<0.5.0,>=0.1.0->spacy<3.8.0,>=3.7.0->zh-core-web-trf==3.7.2) (1.14.1)\n",
            "Requirement already satisfied: mpmath<1.4,>=1.1.0 in /usr/local/lib/python3.10/dist-packages (from sympy->torch>=1.12.0->spacy-curated-transformers<0.3.0,>=0.2.0->zh-core-web-trf==3.7.2) (1.3.0)\n",
            "Requirement already satisfied: mdurl~=0.1 in /usr/local/lib/python3.10/dist-packages (from markdown-it-py>=2.2.0->rich>=10.11.0->typer<1.0.0,>=0.3.0->spacy<3.8.0,>=3.7.0->zh-core-web-trf==3.7.2) (0.1.2)\n",
            "Downloading spacy_curated_transformers-0.2.2-py2.py3-none-any.whl (236 kB)\n",
            "\u001b[2K   \u001b[90m━━━━━━━━━━━━━━━━━━━━━━━━━━━━━━━━━━━━━━━━\u001b[0m \u001b[32m236.3/236.3 kB\u001b[0m \u001b[31m2.3 MB/s\u001b[0m eta \u001b[36m0:00:00\u001b[0m\n",
            "\u001b[?25hDownloading spacy_pkuseg-0.0.33-cp310-cp310-manylinux_2_17_x86_64.manylinux2014_x86_64.whl (2.5 MB)\n",
            "\u001b[2K   \u001b[90m━━━━━━━━━━━━━━━━━━━━━━━━━━━━━━━━━━━━━━━━\u001b[0m \u001b[32m2.5/2.5 MB\u001b[0m \u001b[31m18.7 MB/s\u001b[0m eta \u001b[36m0:00:00\u001b[0m\n",
            "\u001b[?25hDownloading curated_tokenizers-0.0.9-cp310-cp310-manylinux_2_17_x86_64.manylinux2014_x86_64.whl (731 kB)\n",
            "\u001b[2K   \u001b[90m━━━━━━━━━━━━━━━━━━━━━━━━━━━━━━━━━━━━━━━━\u001b[0m \u001b[32m731.6/731.6 kB\u001b[0m \u001b[31m52.0 MB/s\u001b[0m eta \u001b[36m0:00:00\u001b[0m\n",
            "\u001b[?25hDownloading curated_transformers-0.1.1-py2.py3-none-any.whl (25 kB)\n",
            "Using cached nvidia_cublas_cu12-12.1.3.1-py3-none-manylinux1_x86_64.whl (410.6 MB)\n",
            "Using cached nvidia_cuda_cupti_cu12-12.1.105-py3-none-manylinux1_x86_64.whl (14.1 MB)\n",
            "Using cached nvidia_cuda_nvrtc_cu12-12.1.105-py3-none-manylinux1_x86_64.whl (23.7 MB)\n",
            "Using cached nvidia_cuda_runtime_cu12-12.1.105-py3-none-manylinux1_x86_64.whl (823 kB)\n",
            "Using cached nvidia_cudnn_cu12-8.9.2.26-py3-none-manylinux1_x86_64.whl (731.7 MB)\n",
            "Using cached nvidia_cufft_cu12-11.0.2.54-py3-none-manylinux1_x86_64.whl (121.6 MB)\n",
            "Using cached nvidia_curand_cu12-10.3.2.106-py3-none-manylinux1_x86_64.whl (56.5 MB)\n",
            "Using cached nvidia_cusolver_cu12-11.4.5.107-py3-none-manylinux1_x86_64.whl (124.2 MB)\n",
            "Using cached nvidia_cusparse_cu12-12.1.0.106-py3-none-manylinux1_x86_64.whl (196.0 MB)\n",
            "Using cached nvidia_nccl_cu12-2.20.5-py3-none-manylinux2014_x86_64.whl (176.2 MB)\n",
            "Using cached nvidia_nvtx_cu12-12.1.105-py3-none-manylinux1_x86_64.whl (99 kB)\n",
            "Downloading nvidia_nvjitlink_cu12-12.5.82-py3-none-manylinux2014_x86_64.whl (21.3 MB)\n",
            "\u001b[2K   \u001b[90m━━━━━━━━━━━━━━━━━━━━━━━━━━━━━━━━━━━━━━━━\u001b[0m \u001b[32m21.3/21.3 MB\u001b[0m \u001b[31m51.1 MB/s\u001b[0m eta \u001b[36m0:00:00\u001b[0m\n",
            "\u001b[?25hInstalling collected packages: nvidia-nvtx-cu12, nvidia-nvjitlink-cu12, nvidia-nccl-cu12, nvidia-curand-cu12, nvidia-cufft-cu12, nvidia-cuda-runtime-cu12, nvidia-cuda-nvrtc-cu12, nvidia-cuda-cupti-cu12, nvidia-cublas-cu12, curated-tokenizers, spacy-pkuseg, nvidia-cusparse-cu12, nvidia-cudnn-cu12, nvidia-cusolver-cu12, curated-transformers, spacy-curated-transformers, zh-core-web-trf\n",
            "Successfully installed curated-tokenizers-0.0.9 curated-transformers-0.1.1 nvidia-cublas-cu12-12.1.3.1 nvidia-cuda-cupti-cu12-12.1.105 nvidia-cuda-nvrtc-cu12-12.1.105 nvidia-cuda-runtime-cu12-12.1.105 nvidia-cudnn-cu12-8.9.2.26 nvidia-cufft-cu12-11.0.2.54 nvidia-curand-cu12-10.3.2.106 nvidia-cusolver-cu12-11.4.5.107 nvidia-cusparse-cu12-12.1.0.106 nvidia-nccl-cu12-2.20.5 nvidia-nvjitlink-cu12-12.5.82 nvidia-nvtx-cu12-12.1.105 spacy-curated-transformers-0.2.2 spacy-pkuseg-0.0.33 zh-core-web-trf-3.7.2\n",
            "\u001b[38;5;2m✔ Download and installation successful\u001b[0m\n",
            "You can now load the package via spacy.load('zh_core_web_trf')\n",
            "\u001b[38;5;3m⚠ Restart to reload dependencies\u001b[0m\n",
            "If you are in a Jupyter or Colab notebook, you may need to restart Python in\n",
            "order to load all the package's dependencies. You can do this by selecting the\n",
            "'Restart kernel' or 'Restart runtime' option.\n"
          ]
        }
      ],
      "source": [
        "!pip install -q spacy\n",
        "!python -m spacy download zh_core_web_trf\n"
      ]
    },
    {
      "cell_type": "code",
      "source": [
        "\n",
        "import spacy\n",
        "\n",
        "print(spacy.__version__)\n",
        "nlp = spacy.load(\"zh_core_web_trf\")"
      ],
      "metadata": {
        "id": "D5KiH7cl687M",
        "outputId": "5fe12675-feb6-45f9-a39c-3d7fc10353e5",
        "colab": {
          "base_uri": "https://localhost:8080/"
        }
      },
      "execution_count": 2,
      "outputs": [
        {
          "output_type": "stream",
          "name": "stdout",
          "text": [
            "3.7.5\n"
          ]
        }
      ]
    },
    {
      "cell_type": "code",
      "source": [
        "doc = nlp(\"我叫孟庆延。你叫什么名字？\")\n",
        "for token in doc:\n",
        "    print(token.text, token.pos_, token.dep_)"
      ],
      "metadata": {
        "id": "QR6J1iK67ObU",
        "outputId": "65bcb9a0-9287-4428-ed4e-79fd5e89db61",
        "colab": {
          "base_uri": "https://localhost:8080/"
        }
      },
      "execution_count": 4,
      "outputs": [
        {
          "output_type": "stream",
          "name": "stdout",
          "text": [
            "我 PRON nsubj\n",
            "叫 VERB ROOT\n",
            "孟庆延 PROPN dobj\n",
            "。 PUNCT punct\n",
            "你 PRON nsubj\n",
            "叫 VERB conj\n",
            "什么 DET det\n",
            "名字 NOUN dobj\n",
            "？ PUNCT punct\n"
          ]
        }
      ]
    },
    {
      "cell_type": "markdown",
      "source": [
        "## Load custom dataset"
      ],
      "metadata": {
        "id": "4yuxGtGk8hk7"
      }
    },
    {
      "cell_type": "code",
      "source": [
        "import os\n",
        "from google.colab import drive\n",
        "drive.mount('/content/drive')"
      ],
      "metadata": {
        "id": "cMy8oniG-m8b"
      },
      "execution_count": null,
      "outputs": []
    },
    {
      "cell_type": "code",
      "source": [
        "filepath = \"/content/drive/MyDrive/Meng_FamilySearch/cleaned/\"\n",
        "dirs = os.listdir(filepath)\n",
        "words = []\n",
        "labels = []\n",
        "for dir in dirs:\n",
        "  with open(filepath + dir) as my_file:\n",
        "    data_array = my_file.readlines()\n",
        "    words += list(data_array[0])[:-1] # Remove new line\n",
        "    labels += list(data_array[1]) # second line are labels\n",
        "\n",
        "sample_data = \"\".join(words)"
      ],
      "metadata": {
        "id": "IQtZyGJk7ziv"
      },
      "execution_count": 13,
      "outputs": []
    },
    {
      "cell_type": "code",
      "source": [
        "sample_data"
      ],
      "metadata": {
        "id": "sMNGN7VM_SMi",
        "outputId": "551e55cb-3831-41bf-b17c-c365c6ab531b",
        "colab": {
          "base_uri": "https://localhost:8080/",
          "height": 250
        }
      },
      "execution_count": 17,
      "outputs": [
        {
          "output_type": "execute_result",
          "data": {
            "text/plain": [
              "'由支譜而囯譜是有望於後之賢者\\u3000中華民國辛已春二月\\u3000穀旦\\u3000黃候橋七十三世裔孫慶雲氏系聖\\u3000謹譔\\u3000\\u3000鄒縣宗譜原編三遷志\\u3000序\\u3000庚戌之役余病不能竟試歸治藥餌會憲副潘君亦里居時相過從甚浹也居無何邑侯廣漢胡公辱命日孟氏故有志疎甚不可以觀余欲輯之未暇也今既屬筆潘君校讐之任其以煩子余朱高其義不敢以疾辭歡然從事潘君博雅甚余無能為役然時有一得輙較之而取裁焉既成帙客有問於余曰古之著書者皆有為而作出於不得已故可傳不廢胡公之志其為不得已乎余日此真不得已之甚者也嘗徵諸人情矣詩云民之秉彝好是懿德今夫孔孟之去吾人也不甚遼闊哉然吾觀於世之人過其里則皆欣然入其廟則皆肅然遇其子姓則皆依然徘徊而不忍去也誠好之也惟性善故好奪惟好善故喜於揚善而不欲其湮没而不彰也然山川之所阻職業之所羈心慕之而終身不一至其地者有矣即幸一至之考其故蹟稽其軼事倉卒之際了不能悉始末者又有突於是焉冀編摩之足徵索遺篇以寄慕則志始重焉而舊志之球猶無志也是烏得已於修也故夫志也者所以存聖賢之跡而動人思者也人未有無所感而向於善者是志之編孟氏之事與世之尊孟氏者署具然觀之者不徒動其心之好而務意其為之力不浮豔其褒崇之迹而銳然振奮反諸吾心之本善者而操功焉其起而偽孟氏之徒易易耳她謂徒侈儒者之光榮资詞人之談說則於世道人心亦何所益又島取已往之陳述而志之為客唯唯退因次第其言而書之卷末以見胡公之波汲編輯而不以修增廟田為足以畢事者良有所不得已於斯也\\u3000萬歷辛亥暮春\\u3000鄒縣癸卯孝廉周希孔選当\\u3000旹\\u3000民國十九年己已歲孟春月\\u3000穀旦\\u3000桃石慈三縣爕公後裔敬錄序\\u3000丙寅凛冬余方进璃瘧疾與二監角不勝也乃正襟危坐舉家從父所撰聖門志一展函帙而子域潛臺壯武交集於前靈光灼射便覺跟暗退遞忽家第聖符遠從東省來言我從父方以著書先儒崇祀關里血食千秋矣更出袖中一帙日此先人手志聖門餘力别志三選用彰顯孟夫子靈源懿脈者也頃鄒滕亂起孟胤三樂與家乘俱亡第典兒時力為搜輯倾橐梨繡惟兄赴以名以彰今日褒忠錫應之盛余始聞快然既而聲然捉筆飛灑不似昨病握管如千斤錐也因註簡思以謂從父自王子受任後無論東藩方岳借力如左右無晷刻眼汉拜表輸曾五六走釐下一到榆關一搬浙水且復以佐官七态燈窗休暇得幾何時而先蹟通乘專志\\u3000聖門兼為三遷增訂前後展玩不香書開千卷紙沈萬番筆堪成塚者如斯志合史胡二刻探古逃而非費進今異而足徵門拒操戈莞邀贈交時普考證率参微渺别識達疑我從父有千手眼耶而何著記者斯之富也余嘗讀史至史漢梁陳美談之有遷彪之有固察之有思痛皆父創而子竟之也我聖符第之助手佐勤其猶三民之有子乎若夫父子併情端衷螢識不宰相之為係表不當機之頌政述不勢門之姆譜牒而必志\\u3000聖門志三遷皆出於超時走執人意念之所不到而獨自其心思竭其註撰而鐵工紙價十日在前錢穀盡至如破落生產不少顧惜此更可占立心之遠大學術之真純固宜父承徽兽重為先儒子尤當稱顯親揚名孝情以外之孝子也文成擲筆體中為之霍然\\u3000天啟六年嘉平月立春日\\u3000賜進士第中憲大夫太僕寺少卿前工部營籍\\u3000清吏司郎中監督殿門工程呂濬撰\\u3000民國十九年己已歲孟春月穀旦\\u3000桃石慈三縣變公後裔敬錄三遷志譜序\\u3000祖德奕奕賢聖長發其祥\\u3000孟子之生代周而昌實匹夫子連繼殷商於乎明德宜祀無疆孟子之先出自黄帝黄帝四傳至后稷始教療糖以粒燕民堯封之卻十六世為周文王再傳為武王克商而有天下武王封弟周公旦於魯畱團輔王室其子伯禽就封之國入傳至桓公桓公生莊公莊公三第長慶父次叔牙次季友慶父之後為仲孫氏蓋以莊公寫孟也禮热了自為長少不敢祖諸侯故仲孫亦稱孟孫氏今春秋經文皆書仲孫而左氏傳皆書孟孫故知並稱也孟氏之嫡孫主宗祀者則稱孟孫左傳孟莊子疾豐點謂孝伯曰從余言必為孟孫是也其他支子則止稱孟左氏傳有孟椒孟之側論語有孟公粹是也叔牙之後為叔孫氏季友之後為季孫氏與孟孫並稱三家以皆桓公後也亦曰三相三相之後也顯於魯季孫僧遊見惡\\u3000聖門叔孫間有賢者要未大著獨孟孫世有令德獻子忠孝恭儉莊子之孝孔會垂稱為其尤難者孟僖子將没之時孔子年甫瑜壯名位未彰乃能屬其二子便學夫子以定其位其後懿子敬叔並師事仲尼而敬叔逐為孔門高弟且歸以兄子下逮武伯亦屢有問答會了有疾敬子躬問以至之反公緯皆為夫子所推由是考之孟氏之於孔子其雅尊歷數世如一日矣天眷明德至孟激字公宜娶机氏而孟子生焉卒師子思以昌其道鳴乎宋有弗父何正考父孔父嘉之賢而開見父曾有獻子莊子僖子敬叔之賢而鞏子與一為支王成湯微子之裔一偽后稷文王周公之亂登偶然战傳日審遠而後興宜矣\\u3000旹\\u3000民國十八年己已歲春月前显\\u3000桃石慈三縣燮公後裔錄志敘\\u3000讀書至孟子道性善言必稱堯舜又曰堯舜之道孝第而已矣未嘗不恍然知大聖大賢之道原不過循其性於秉彝之良而全其量於倫常之大是故自堯舜禹湯文武周公孔子以至孟子歷聖相傳初未有舍庸行之道而克臻夫聖域然說者以為大聖大賢固天所生以立人道之極而傳不絕之結於無窮故能生知安行無待於勉強而後成功也孟子三遷之教則又何說不知即此可以知聖賢矣戰國時唐虞三代之風渺乎遠矣周公孔子之道迁不講矣楊墨之說盈天下儀泰君衍之徒又紛然雜出矣而孟子生於其時獨能開先聖之道闢邪距淫崇王鼎伯砥柱中流迴狂瀾於既倒何殊江漢秋陽故當時列國之君亦皆心知其賢惜不能大用於是還轅息鹹且與其徒講明討論七篇之中惟性舍仁義之旨為獨詳所以維人心道心於桃忽幾希之微而欲垂之為百世法向非宣獻三遷之教雖為天所生以傳道之人縱有出類拔萃之資而混然中處於邪說横行之天下欲不為所惑徵不甚難哉孔子日我非生而知之者好古敏以求之者雖生知猶不廢學而况次焉者乎是知孟子之所以成大儒者厥惟三遷之教始至今讀其書無不愛之敬之考其事無不仰之慕之我\\u3000聖祖仁皇帝側席求賢崇儒重道發帶金以新廟貌揮宸翰而製碑文而且蔭爵錫田前代未有若斯之盛也要一介庸愚謬芯茲土牆幸獲拜宮牆登其堂肅如也瞻其像穆如也晉接其賢裔萬如秩如也覽其组立之森列禮器之輝煌儼如親林先型而低徊不忍去椅休战何低也即夏大早之後甘雨盈郊從容退点通翰博孟公以三遷志問叙於予簿書俗鄙陋無女雖極意揚芳諫而究無加盛矣於萬一说先聖出處之蹟前人之述已備而敢安贊詞战因思子思作中庸而逃夫子之言武王周公\\u3000其達孝矣乎夫孝者善繼人之志述人之事者也故推原孟子所以得傳堯舜禹湯文武周公孔子之道者良以人性之本善而能率三遷之教以優人於聖域茲翰博公修志之本意皆非繼志逃事之大不盆可見家學淵源而孝思之不園也乎\\u3000康熙六十一年正月\\u3000吉旦\\u3000刺授文林郎知鄒際事加三級\\u3000韓于斐頓首井撰'"
            ],
            "application/vnd.google.colaboratory.intrinsic+json": {
              "type": "string"
            }
          },
          "metadata": {},
          "execution_count": 17
        }
      ]
    },
    {
      "cell_type": "code",
      "source": [
        "doc = nlp(sample_data)"
      ],
      "metadata": {
        "id": "MtEv594a90Ho"
      },
      "execution_count": 15,
      "outputs": []
    },
    {
      "cell_type": "code",
      "source": [
        "prev_ent = False\n",
        "for token in doc:\n",
        "  if (token.ent_type_):\n",
        "    if not prev_ent:\n",
        "      print()\n",
        "    prev_ent = True\n",
        "    print(token.text,f'{token.ent_iob_}-{token.ent_type_}', spacy.explain(token.ent_type_))\n",
        "  else:\n",
        "    prev_ent = False\n",
        "    print(token.text, end='')"
      ],
      "metadata": {
        "id": "XbCCrjrc-Ohx",
        "outputId": "abb4053d-2bc7-4296-e8f7-161c9fe0b487",
        "colab": {
          "base_uri": "https://localhost:8080/"
        }
      },
      "execution_count": 32,
      "outputs": [
        {
          "output_type": "stream",
          "name": "stdout",
          "text": [
            "由支譜而囯譜是有望於後之賢者　中華民國辛已\n",
            "春 B-DATE Absolute or relative dates or periods\n",
            "二月 I-DATE Absolute or relative dates or periods\n",
            "　穀旦　黃候橋\n",
            "七十三 B-DATE Absolute or relative dates or periods\n",
            "世裔 I-DATE Absolute or relative dates or periods\n",
            "孫慶雲氏系聖　謹譔　　\n",
            "鄒縣 B-PERSON People, including fictional\n",
            "宗譜原編三遷志　序　庚戌之役\n",
            "余病 B-PERSON People, including fictional\n",
            "不能竟試歸治藥餌會憲副潘君亦里居時相過從甚浹也居無何邑侯\n",
            "廣漢 B-GPE Countries, cities, states\n",
            "胡公辱 B-PERSON People, including fictional\n",
            "命日\n",
            "孟 B-PERSON People, including fictional\n",
            "氏故有志疎甚不可以觀余欲輯之未暇也今既屬筆\n",
            "潘君 B-PERSON People, including fictional\n",
            "校讐之任其以煩子余\n",
            "朱高其義 B-PERSON People, including fictional\n",
            "不敢以疾辭歡然從事\n",
            "潘君 B-PERSON People, including fictional\n",
            "博雅甚余無能為役然時有一得輙較之而取裁焉既成帙客有問於余曰古之著書者皆有為而作出於不得已故可傳不廢\n",
            "胡公 B-PERSON People, including fictional\n",
            "之志其為不得已乎\n",
            "余日 B-PERSON People, including fictional\n",
            "此真不得已之甚者也嘗徵諸人情矣詩\n",
            "云民 B-GPE Countries, cities, states\n",
            "之秉彝好是\n",
            "懿德今夫 B-PERSON People, including fictional\n",
            "孔孟 B-PERSON People, including fictional\n",
            "之去吾人也不甚遼闊哉然吾觀於世之人過其里則皆欣然入其廟則皆肅然遇其子姓則皆依然徘徊而不忍去也誠好之也惟性善故好奪惟好善故喜於揚善而不欲其湮没而不彰也然\n",
            "山川 B-GPE Countries, cities, states\n",
            "之所阻職業之所羈心慕之而終身不一至其地者有矣即幸\n",
            "一 B-CARDINAL Numerals that do not fall under another type\n",
            "至之考其故蹟稽其軼事倉卒之際了不能悉始末者又有突於是焉冀編摩之足徵索遺篇以寄慕則志始重焉而舊志之球猶無志也是烏得已於修也故夫志也者所以存聖賢之跡而動人思者也人未有無所感而向於善者是志之編孟氏之事與世之尊孟氏者署具然觀之者不徒動其心之好而務意其為之力不浮豔其褒崇之迹而銳然振奮反諸吾心之本善者而操功焉其起而偽孟氏之徒易易耳她謂徒侈儒者之光榮资詞人之談說則於世道人心亦何所益又島取已往之陳述而志之為客唯唯退因次\n",
            "第其 B-ORDINAL \"first\", \"second\", etc.\n",
            "言而書之卷末以見\n",
            "胡公 B-PERSON People, including fictional\n",
            "之波汲編輯而不以修增廟田為足以畢事者良有所不得已於斯也　萬歷辛亥暮春　\n",
            "鄒縣 B-PERSON People, including fictional\n",
            "癸卯孝廉\n",
            "周希 B-PERSON People, including fictional\n",
            "孔選 B-PERSON People, including fictional\n",
            "当　旹　\n",
            "民國 B-DATE Absolute or relative dates or periods\n",
            "十九 I-DATE Absolute or relative dates or periods\n",
            "年 I-DATE Absolute or relative dates or periods\n",
            "己已歲孟春月　穀旦　桃石\n",
            "慈三 B-GPE Countries, cities, states\n",
            "縣爕公後裔敬錄序　\n",
            "丙 B-DATE Absolute or relative dates or periods\n",
            "寅凛 B-DATE Absolute or relative dates or periods\n",
            "冬余\n",
            "方进 B-PERSON People, including fictional\n",
            "璃瘧疾與二監角不勝也乃正襟危坐舉家從父所撰聖門志一展函帙而子域潛臺壯武交集於前靈光灼射便覺跟暗退遞忽家\n",
            "第聖 B-ORDINAL \"first\", \"second\", etc.\n",
            "符遠從東省來言我從父方以著書先儒崇祀關里血食\n",
            "千秋矣 B-PRODUCT Objects, vehicles, foods, etc. (not services)\n",
            "更出袖中一帙日此先人手志聖門餘力别志\n",
            "三 B-CARDINAL Numerals that do not fall under another type\n",
            "選用彰顯\n",
            "孟 B-PERSON People, including fictional\n",
            "夫子靈源懿脈者也頃鄒滕亂起孟胤\n",
            "三 B-CARDINAL Numerals that do not fall under another type\n",
            "樂與家乘俱亡\n",
            "第典 B-ORDINAL \"first\", \"second\", etc.\n",
            "兒時力為搜輯倾橐\n",
            "梨繡 B-PERSON People, including fictional\n",
            "惟兄赴以名以彰今日褒忠錫應之盛余始聞快然既而聲然捉筆飛灑不似昨病握管如千斤錐也因註簡思以謂從父自王子受任後無論東藩方岳借力如左右無晷刻眼汉拜表輸曾\n",
            "五六 B-DATE Absolute or relative dates or periods\n",
            "走釐下一到\n",
            "榆關 B-LOC Non-GPE locations, mountain ranges, bodies of water\n",
            "一搬\n",
            "浙水 B-GPE Countries, cities, states\n",
            "且復以佐官七态燈窗休暇得幾何時而先蹟通乘專志　聖門兼為\n",
            "三 B-CARDINAL Numerals that do not fall under another type\n",
            "遷增訂前後展玩不香書開\n",
            "千 B-CARDINAL Numerals that do not fall under another type\n",
            "卷紙沈萬番筆堪成塚者如斯志合史\n",
            "胡 B-PERSON People, including fictional\n",
            "二刻探古逃而非費進今異而\n",
            "足徵門 B-PERSON People, including fictional\n",
            "拒操\n",
            "戈莞 B-PERSON People, including fictional\n",
            "邀贈交時普考證率参微渺别識\n",
            "達疑 B-PERSON People, including fictional\n",
            "我從父有千手眼耶而何著記者斯之富也余嘗讀史至史漢\n",
            "梁陳 B-PERSON People, including fictional\n",
            "美談之有遷彪之有固察之有思痛皆父創而子竟之也我聖符\n",
            "第之 B-ORDINAL \"first\", \"second\", etc.\n",
            "助手\n",
            "佐勤其猶 B-PERSON People, including fictional\n",
            "三 B-CARDINAL Numerals that do not fall under another type\n",
            "民之有子乎若夫父子併情端衷螢識不宰相之為係表不當機之頌政述不勢門之姆譜牒而必志　聖門志\n",
            "三 B-CARDINAL Numerals that do not fall under another type\n",
            "遷皆出於超時走執人意念之所不到而獨自其心思竭其註撰而鐵工紙價\n",
            "十日 B-DATE Absolute or relative dates or periods\n",
            "在前錢穀盡至如破落生產不少顧惜此更可占立心之遠大學術之真純固宜父承徽兽重為先儒子尤當稱顯親揚名孝情以外之孝子也文成擲筆體中為之\n",
            "霍然 B-PERSON People, including fictional\n",
            "　\n",
            "天啟 B-DATE Absolute or relative dates or periods\n",
            "六 I-DATE Absolute or relative dates or periods\n",
            "年 I-DATE Absolute or relative dates or periods\n",
            "嘉平月立春日　賜進士\n",
            "第中 B-ORDINAL \"first\", \"second\", etc.\n",
            "憲大夫太僕寺少卿前工部營籍　清吏司郎中監督殿門工程\n",
            "呂濬 B-PERSON People, including fictional\n",
            "撰　\n",
            "民國 B-DATE Absolute or relative dates or periods\n",
            "十九 I-DATE Absolute or relative dates or periods\n",
            "年 I-DATE Absolute or relative dates or periods\n",
            "己 B-DATE Absolute or relative dates or periods\n",
            "已 I-DATE Absolute or relative dates or periods\n",
            "歲 I-DATE Absolute or relative dates or periods\n",
            "孟春月穀旦　\n",
            "桃石 B-LOC Non-GPE locations, mountain ranges, bodies of water\n",
            "慈三縣變公後裔敬錄三遷志譜序　祖德奕奕賢聖長發其祥　\n",
            "孟子 B-PERSON People, including fictional\n",
            "之生代\n",
            "周而昌 B-PERSON People, including fictional\n",
            "實匹夫子連繼殷商於乎明德\n",
            "宜祀 B-GPE Countries, cities, states\n",
            "無疆孟子之先出自\n",
            "黄帝 B-LOC Non-GPE locations, mountain ranges, bodies of water\n",
            "黄帝四 B-PERSON People, including fictional\n",
            "傳至后稷始教療糖以粒燕民堯封之卻\n",
            "十六 B-DATE Absolute or relative dates or periods\n",
            "世為 I-DATE Absolute or relative dates or periods\n",
            "周文 B-PERSON People, including fictional\n",
            "王再傳為武王克商而有天下武王封弟\n",
            "周 B-PERSON People, including fictional\n",
            "公旦於魯畱團輔王室其子伯禽就封之國入傳至桓公桓公生\n",
            "莊 B-PERSON People, including fictional\n",
            "公莊公三\n",
            "第長 B-ORDINAL \"first\", \"second\", etc.\n",
            "慶父次\n",
            "叔牙 B-PERSON People, including fictional\n",
            "次季友慶父之後為仲孫氏蓋以\n",
            "莊公 B-PERSON People, including fictional\n",
            "寫孟也禮热了自為長少不敢祖諸侯故\n",
            "仲孫 B-PERSON People, including fictional\n",
            "亦稱孟孫氏今春\n",
            "秋經文 B-WORK_OF_ART Titles of books, songs, etc.\n",
            "皆書仲孫而\n",
            "左氏 B-PERSON People, including fictional\n",
            "傳皆書\n",
            "孟孫 B-PERSON People, including fictional\n",
            "故知並稱也\n",
            "孟氏 B-PERSON People, including fictional\n",
            "之嫡孫主\n",
            "宗祀者 B-PERSON People, including fictional\n",
            "則稱\n",
            "孟孫 B-PERSON People, including fictional\n",
            "左傳\n",
            "孟 B-PERSON People, including fictional\n",
            "莊子疾豐點謂\n",
            "孝伯 B-PERSON People, including fictional\n",
            "曰從余言必為\n",
            "孟孫 B-PERSON People, including fictional\n",
            "是也其他支子則止稱孟\n",
            "左氏 B-PERSON People, including fictional\n",
            "傳有孟椒\n",
            "孟 B-PERSON People, including fictional\n",
            "之側論語有\n",
            "孟 B-PERSON People, including fictional\n",
            "公粹是也叔牙之後為叔孫氏季友之後為季孫氏與孟孫並稱\n",
            "三 B-CARDINAL Numerals that do not fall under another type\n",
            "家以皆桓公後也亦曰三相三相之後也顯於魯季孫僧遊見惡　聖門叔孫間有賢者要未大著獨\n",
            "孟 B-PERSON People, including fictional\n",
            "孫世 I-PERSON People, including fictional\n",
            "有令德獻子忠孝恭儉莊子之孝\n",
            "孔會 B-PERSON People, including fictional\n",
            "垂稱 I-PERSON People, including fictional\n",
            "為其尤難者\n",
            "孟僖子 B-PERSON People, including fictional\n",
            "將没之時\n",
            "孔子 B-PERSON People, including fictional\n",
            "年甫瑜壯名位未彰乃能屬其二子便學夫子以定其位其後懿子\n",
            "敬叔 B-PERSON People, including fictional\n",
            "並師事\n",
            "仲尼 B-PERSON People, including fictional\n",
            "而敬叔逐為孔門高弟且歸以兄子下逮武伯亦屢有問答會了有疾\n",
            "敬子 B-PERSON People, including fictional\n",
            "躬問以至之反公緯皆為夫子所推由是考之\n",
            "孟 B-PERSON People, including fictional\n",
            "氏之於\n",
            "孔子 B-PERSON People, including fictional\n",
            "其雅尊歷數世如一日矣天眷明德至孟激字公宜娶机氏而\n",
            "孟子 B-PERSON People, including fictional\n",
            "生焉卒師子\n",
            "思以昌 B-PERSON People, including fictional\n",
            "其道鳴乎宋有弗父\n",
            "何正考 B-PERSON People, including fictional\n",
            "父孔父嘉之賢而開見父曾有獻子\n",
            "莊子 B-PERSON People, including fictional\n",
            "僖子敬叔之賢而鞏子與一為支王\n",
            "成湯 B-PERSON People, including fictional\n",
            "微子之裔一偽后\n",
            "稷文 B-PERSON People, including fictional\n",
            "王 I-PERSON People, including fictional\n",
            "周公之 B-PERSON People, including fictional\n",
            "亂登偶然战傳日審遠而後興宜矣　旹　\n",
            "民國 B-DATE Absolute or relative dates or periods\n",
            "十八年 I-DATE Absolute or relative dates or periods\n",
            "己 I-DATE Absolute or relative dates or periods\n",
            "已 I-DATE Absolute or relative dates or periods\n",
            "歲 I-DATE Absolute or relative dates or periods\n",
            "春月 I-DATE Absolute or relative dates or periods\n",
            "前显　桃石慈三縣燮公後裔錄志敘　讀書至\n",
            "孟子 B-PERSON People, including fictional\n",
            "道性善言必稱\n",
            "堯舜 B-PERSON People, including fictional\n",
            "又曰\n",
            "堯舜 B-PERSON People, including fictional\n",
            "之道孝\n",
            "第而 B-ORDINAL \"first\", \"second\", etc.\n",
            "已矣未嘗不恍然知大聖大賢之道原不過循其性於秉彝之良而全其量於倫常之大是故自\n",
            "堯舜 B-PERSON People, including fictional\n",
            "禹湯 B-PERSON People, including fictional\n",
            "文武周公\n",
            "孔子 B-PERSON People, including fictional\n",
            "以至\n",
            "孟子 B-PERSON People, including fictional\n",
            "歷聖相傳初未有舍庸行之道而克臻夫聖域然說者以為大聖大賢固天所生以立人道之極而傳不絕之結於無窮故能生知安行無待於勉強而後成功也\n",
            "孟子 B-PERSON People, including fictional\n",
            "三 B-CARDINAL Numerals that do not fall under another type\n",
            "遷之教則又何說不知即此可以知聖賢矣戰國時唐虞三代之風渺乎遠矣\n",
            "周公 B-PERSON People, including fictional\n",
            "孔子之道迁不講矣\n",
            "楊墨 B-PERSON People, including fictional\n",
            "之說盈天下儀泰君衍之徒又紛然雜出矣而\n",
            "孟子 B-PERSON People, including fictional\n",
            "生於其時獨能開先聖之道闢邪距淫崇\n",
            "王鼎伯 B-PERSON People, including fictional\n",
            "砥柱中流迴狂瀾於既倒何殊江\n",
            "漢秋 B-PERSON People, including fictional\n",
            "陽故 I-PERSON People, including fictional\n",
            "當時列國之君亦皆心知其賢惜不能大用於是還轅息鹹且與其徒講明討論\n",
            "七 B-CARDINAL Numerals that do not fall under another type\n",
            "篇之中惟性舍仁義之旨為獨詳所以維人心道心於桃忽幾希之微而欲垂之為百世法向非宣獻\n",
            "三 B-CARDINAL Numerals that do not fall under another type\n",
            "遷之教雖為天所生以傳道之人縱有出類拔萃之資而混然中處於邪說横行之天下欲不為所惑徵不甚難哉\n",
            "孔子 B-PERSON People, including fictional\n",
            "日我非生而知之者好古敏以求之者雖生知猶不廢學而况次焉者乎是知孟子之所以成大儒者厥惟\n",
            "三 B-CARDINAL Numerals that do not fall under another type\n",
            "遷之教始至今讀其書無不愛之敬之考其事無不仰之慕之我　\n",
            "聖祖仁 B-PERSON People, including fictional\n",
            "皇帝 I-PERSON People, including fictional\n",
            "側席求賢崇儒重道發帶金以新廟貌揮宸翰而製碑文而且蔭爵錫田前代未有若斯之盛也要一介庸愚謬芯茲土牆幸獲拜宮牆登其堂肅如也瞻其像穆如也晉接其賢裔萬如秩如也覽其组立之森列禮器之輝煌儼如親林先型而低徊不忍去椅休战何低也即\n",
            "夏大早 B-PERSON People, including fictional\n",
            "之後\n",
            "甘雨 B-PERSON People, including fictional\n",
            "盈郊從容退点\n",
            "通翰 B-ORG Companies, agencies, institutions, etc.\n",
            "博孟 I-ORG Companies, agencies, institutions, etc.\n",
            "公以 I-ORG Companies, agencies, institutions, etc.\n",
            "三 B-CARDINAL Numerals that do not fall under another type\n",
            "遷\n",
            "志問叙 B-PERSON People, including fictional\n",
            "於予簿書俗鄙陋無女雖極意揚芳諫而究無加盛矣於萬一说先聖出處之蹟前人之述已備而敢安贊詞战因思子思作中庸而逃夫子之言\n",
            "武王 B-PERSON People, including fictional\n",
            "周公 I-PERSON People, including fictional\n",
            "　其達孝矣乎夫孝者善繼人之志述人之事者也故推原\n",
            "孟子 B-PERSON People, including fictional\n",
            "所以得傳堯\n",
            "舜禹 B-PERSON People, including fictional\n",
            "湯 I-PERSON People, including fictional\n",
            "文武 B-PERSON People, including fictional\n",
            "周公孔子之道者良以人性之本善而能率\n",
            "三 B-CARDINAL Numerals that do not fall under another type\n",
            "遷之教以優人於聖域茲翰博公修志之本意皆非繼志逃事之大不盆可見家學淵源而孝思之不園也乎　\n",
            "康熙 B-DATE Absolute or relative dates or periods\n",
            "六十一年 I-DATE Absolute or relative dates or periods\n",
            "正月　\n",
            "吉旦 B-PERSON People, including fictional\n",
            "　刺授\n",
            "文林郎 B-PERSON People, including fictional\n",
            "知鄒際事加三級　\n",
            "韓于 B-GPE Countries, cities, states\n",
            "斐頓首井撰"
          ]
        }
      ]
    },
    {
      "cell_type": "code",
      "source": [],
      "metadata": {
        "id": "dfL7wEEd-6CZ"
      },
      "execution_count": null,
      "outputs": []
    }
  ]
}